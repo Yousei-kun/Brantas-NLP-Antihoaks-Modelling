{
 "cells": [
  {
   "cell_type": "code",
   "execution_count": 1,
   "metadata": {},
   "outputs": [],
   "source": [
    "import pandas as pd\n",
    "import re\n",
    "import pickle\n",
    "\n",
    "import tensorflow as tf\n",
    "from tensorflow.keras.preprocessing.sequence import pad_sequences\n",
    "\n",
    "import warnings\n",
    "warnings.filterwarnings('ignore')"
   ]
  },
  {
   "cell_type": "code",
   "execution_count": 2,
   "metadata": {},
   "outputs": [],
   "source": [
    "def clean_data(input_text):\n",
    "    stop_words_list = pd.read_csv(\"stopwordbahasa.csv\")\n",
    "    stop_words_list = stop_words_list.to_numpy()\n",
    "\n",
    "    # Menghilangkan karakter hasil scrapping yang kurang baik (unnecessary character)\n",
    "\n",
    "    input_text = re.sub(r\"[^A-Za-z0-9\\s]+\", \"\", input_text)\n",
    "    input_text = re.sub(\"\\n\",\" \", input_text)\n",
    "    input_text = [word.lower() for word in input_text.split() if word.lower() not in stop_words_list]\n",
    "\n",
    "    return input_text"
   ]
  },
  {
   "cell_type": "code",
   "execution_count": 3,
   "metadata": {},
   "outputs": [],
   "source": [
    "def tokenize(input_text):\n",
    "    input_text = [input_text]\n",
    "\n",
    "    with open('tokenizer.pickle', 'rb') as handle:\n",
    "        tokenizer = pickle.load(handle)\n",
    "\n",
    "    testing_sequences = tokenizer.texts_to_sequences(input_text)\n",
    "    padded_sequence = pad_sequences(testing_sequences,maxlen=150, padding='post')\n",
    "    \n",
    "    return padded_sequence"
   ]
  },
  {
   "cell_type": "code",
   "execution_count": 4,
   "metadata": {},
   "outputs": [],
   "source": [
    "def predict_text(input_text):\n",
    "    clean_text = clean_data(input_text)\n",
    "    tokenized_text = tokenize(clean_text)\n",
    "    \n",
    "    model = tf.keras.models.load_model(\"best_model.h5\")\n",
    "    result = model.predict(tokenized_text)\n",
    "    result_class = min = \"Valid\" if result > 0.5 else \"Hoax\"\n",
    "    \n",
    "    return result_class"
   ]
  },
  {
   "cell_type": "code",
   "execution_count": 5,
   "metadata": {},
   "outputs": [
    {
     "data": {
      "text/plain": [
       "'Valid'"
      ]
     },
     "execution_count": 5,
     "metadata": {},
     "output_type": "execute_result"
    }
   ],
   "source": [
    "predict_text(\"\"\"Isu bahwa ikan lele mengandung sel kanker di jejaring social dan berita dari mulut ke mulut terus menyebar. Dampak dari isu tersebut para ibu ibu enggan membeli ikan lele. Waspada Online berhasil merangkum komentar ibu-ibu yang biasanya membeli ikan lele untuk konsumsi rutin sebagai lauk. Beredarnya informasi yang menyebutkan lele mengandung sela kanker dipisu karena kehidupan ikan lele yang bisa hidup di tempat yang sangat jorok sekalipun. Julukan sebagai ikan paling jorok merujuk pada sifat lele yang doyan mengonsumsi berbagai jenis limbah di perairan. Bahkan sebuah artikel yang cukup vital di internet menyebutkan kotoran manusia juga dijadikan pakan pada sebuah budidaya lele di Kota Haikou, Tiongkok. Berdasar isu tersebut, dalam sesuap daging ikan lele, terkandung 3000 sel kanker. Isu itu cepat berkembang di media sosial dan mulut ke mulut. Namun isu itu justru tak menyurutkan penjualan ikan lele di Medan dan masih stabil dan tidak berpengaruh. Pengakuan sejumlah pedagang di Medan dan petani ikan lele di Medan sekitarnya, tidak ada pengaruh isu terhadap konsumsi dan penjualan ikan lele. Seperti yang diakui Br Manalu pedagang ikan lele di Pasar Sukaramai Medan. Menurutnya penjualan ikan lele tetap stabil dan tidak terkena dampaknya, terkait pemberitaan tersebut pun banyak masyarakat yang masih mengkonsumsi ikan lele. Penjualan lele tetap normal dan harga lele juga masih stabil Rp. 18000 perkilonya, dan sangat disayangkan dengan kabar yang katanya lele mengandung sel kanker, jelas ini membuat pembudi daya lele tersinggung dan kami pun sebagai pedagang jelas akan kesulitan untuk mencari pasokan ikan lele,” terangnya, Senin (16/11). Seorang petani ikan lele di kawasan Medan Marelan, Pujiono mengaku, tidak mempengaruhi permintaan ikan lele dari kolam miliknya. Bahkan panen ikan belakangan ini tidak mampu memenuhi pasar yang mayoritas di kirim ke Aceh dan pasar Medan. Terkait ikan lele mengandung sel kanker, Pakar Gizi Masyarakat dan Guru Besar Pangan dan Gizi Institut Pertanian Bogor (IPB), Prof Dr Ir Ali Khemsan MS, saat di konfirmasi melalui selular, Senin (16/11) membantah isu tersebut. Dia sangat menyayangkan dengan pemberitaan tentang bakteri sel kanker yang terkandung di ikan lele. “Berita itu menurut saya tidak benar, malah ini membuat para pembudidaya ikan lele merasa tersinggung dan terpukul, karena dari situ mereka bisa memenuhi kebutuhan hidup,” jelasnya. Justru dikatakannya, pemicu sel kanker adalah minyak goreng penggoreng ikan lele. “Justru yang membuat dan menimbulkan sel kanker itu pada masyarakat yang menggoreng sesuatu atau bahkan ikanlele sendiri untuk dijual dengan menggunakan minyak jelantah (minyak bekas), itu yang bisa memicu kanker. Oleh karena itu, diharapkan kepada seluruh masyarakat untuk lebih berhati hati ketika membeli makanan yang di goreng dengan menggunakan minyak pungkasnya\"\"\")"
   ]
  },
  {
   "cell_type": "code",
   "execution_count": 6,
   "metadata": {},
   "outputs": [
    {
     "data": {
      "text/plain": [
       "'Hoax'"
      ]
     },
     "execution_count": 6,
     "metadata": {},
     "output_type": "execute_result"
    }
   ],
   "source": [
    "predict_text(\"\"\"Bahaya Mengkonsumsi Ikan Lele Yang Mengandung Sel Kanker - Lele adalah sejenis ikan yang hidup di air tawar. Ikan lele mudah dikenali karena tubuhnya yang licin, agak pipih memanjang, serta memiliki \"kumis\" yang panjang, yang mencuat dari sekitar bagian mulutnya. Ikan lele merupakan salah satu menu makanan favorit dan bahkan di setiap warung makan selalu tersedia menu ini, karena harganya yang cukup murah dan rasanya yang enak menjadi daya tarik tersendiri bagi ikan yang satu ini. Meskipun enak dan murah, ikan lele paling kotor di antara jenis ikan lainnya yang sering dikonsumsi oleh manusia. Mengapa demikian? Hal tersebut dikarenakan, lele merupakan jenis ikan yang mudah berkembang biak di tempat-tempat yang kotor. Lele merupakan jenis ikan yang mudah berkembang biak di tempat-tempat yang kotor karena ikan ini mengkonsumsi limbah berupa kotoran hewan seperti ayam, sapi, dan babi, bahkan ikan ini juga dapat mengkonsumsi kotoran manusia. Sehingga dapat dimungkinkan bahwa dalam tubuh ikan lele mengandung tiga ribu sel kanker yang sangat berbahaya bagi tubuh manusia. Ikan lele mengandung sel kanker, Kabar ikan lele mengandung 3.000 sel kanker muncul pertama kali di Tiongkok. Sebuah artikel yang menyebutkan ikan lele kotor dan jorok menjadi viral di media sosial. Artikel itu menyebutkan bahwa kotoran manusia juga dijadikan pakan di sebuah tempat budidaya ikan lele di Kota Haikou, China. Kendati demikian, penikmat ikan lele diminta untuk tidak terpengaruh dengan informasi tersebut. Pasalnya, ikan lele di Indonesia berbeda dengan Tiongkok. Terlepas dari semua itu, adakah manfaat ikan lele untuk kesehatan ? ternyata ikan yang satu ini selain enak juga mengandung beberapa zat yang baik bagi kesehatan tubuh manusia. Kandungan yang terdapat pada ikan lele, Selain daging yang gurih ternyata daging lele terdapat banyak kandungan gizinya. Berikut nilai gizi Lele 100 gram,bagian ikan yang dapat di makan dan ikan segar (FAO,1972) Macam zat gizi Bag. Ikan yang dapat dimakan Ikan segar utuh. 1 Kadar air (%) 78,5 47,1 Sumber energy (cal.) 90 54, Protein (gr) 18,7 11,2 Lemak (gr) 1,1 0,7 Kalsium (Ca) (mgr) 15 9 Phosphor (P) (mgr) 260 156 Zat besi (Fe) (mgr) 2 1,2 Natrium (mgr) 150 90 Thiamine (vit B1) (mgr) 0,10 0,06 Riboflavin (vit B2) (mgr) 0,05 0,03 Niacin (mgr) 2,0 1,2 Dari data diatas dapat disimpulkan, bahwa ikan lele mengandung protein yang tinggi dan zat penguat tulang (kalsium) yang baik untuk dimakan. Selain itu ikan lele juga mengandung mineral lain yang penting pula untuk kesehatan tubuh (Djatmiko Hertami,1986) Nah demikian beberapa informasi mengenai ikan lele yang berada di Tiongkok, namun di Indonesia ikan ini telah dibudidayakan dengan baik oleh para peternak ikan lele dan mereka menggunakan pellet sebagai makanannya bukan menggunakan limbah yang sangat berbahaya bagi kesehatan tubuh manusia. Sehingga mengkonsumsi ikan lele di Indonesia tidak perlu diragukan kebersihannya, namun sebagai konsumen yang bijak kita harus tetap waspada dengan kandungan ikan ini dan tidak perlu mengkonsumsi ikan lele dalam jumlah yang besar secara rutin karena dapat mengganggu kesehatan kita.\"\"\")"
   ]
  }
 ],
 "metadata": {
  "interpreter": {
   "hash": "75fe66cc5c562c8b7ab53726264ba1dcd972787fdbff729afe5074f433741fc8"
  },
  "kernelspec": {
   "display_name": "Python 3.9.1 64-bit",
   "language": "python",
   "name": "python3"
  },
  "language_info": {
   "codemirror_mode": {
    "name": "ipython",
    "version": 3
   },
   "file_extension": ".py",
   "mimetype": "text/x-python",
   "name": "python",
   "nbconvert_exporter": "python",
   "pygments_lexer": "ipython3",
   "version": "3.9.1"
  },
  "orig_nbformat": 4
 },
 "nbformat": 4,
 "nbformat_minor": 2
}
